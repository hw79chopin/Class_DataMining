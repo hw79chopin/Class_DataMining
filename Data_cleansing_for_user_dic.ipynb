{
 "cells": [
  {
   "cell_type": "markdown",
   "metadata": {},
   "source": [
    "# 기본설정"
   ]
  },
  {
   "cell_type": "code",
   "execution_count": 1,
   "metadata": {},
   "outputs": [],
   "source": [
    "import numpy as np\n",
    "import pandas as pd\n",
    "from collections import Counter\n",
    "import konlpy\n",
    "from konlpy.tag import Mecab\n",
    "from konlpy.tag import Okt\n",
    "\n",
    "import fasttext\n",
    "from gensim.models import Word2Vec, FastText"
   ]
  },
  {
   "cell_type": "code",
   "execution_count": 2,
   "metadata": {},
   "outputs": [],
   "source": [
    "bills = pd.read_csv('bills_24839_all_cleansed.csv')"
   ]
  },
  {
   "cell_type": "code",
   "execution_count": 3,
   "metadata": {},
   "outputs": [],
   "source": [
    "members = pd.read_csv('assembly_memebers_295.csv')"
   ]
  },
  {
   "cell_type": "code",
   "execution_count": 4,
   "metadata": {},
   "outputs": [
    {
     "data": {
      "text/plain": [
       "(23779, 7)"
      ]
     },
     "execution_count": 4,
     "metadata": {},
     "output_type": "execute_result"
    }
   ],
   "source": [
    "bills.shape"
   ]
  },
  {
   "cell_type": "code",
   "execution_count": 5,
   "metadata": {},
   "outputs": [
    {
     "data": {
      "text/html": [
       "<div>\n",
       "<style scoped>\n",
       "    .dataframe tbody tr th:only-of-type {\n",
       "        vertical-align: middle;\n",
       "    }\n",
       "\n",
       "    .dataframe tbody tr th {\n",
       "        vertical-align: top;\n",
       "    }\n",
       "\n",
       "    .dataframe thead th {\n",
       "        text-align: right;\n",
       "    }\n",
       "</style>\n",
       "<table border=\"1\" class=\"dataframe\">\n",
       "  <thead>\n",
       "    <tr style=\"text-align: right;\">\n",
       "      <th></th>\n",
       "      <th>입안일</th>\n",
       "      <th>법안명</th>\n",
       "      <th>법안내용</th>\n",
       "      <th>발의자</th>\n",
       "      <th>상태</th>\n",
       "      <th>법안명_이름만</th>\n",
       "      <th>법안명_법안내용</th>\n",
       "    </tr>\n",
       "  </thead>\n",
       "  <tbody>\n",
       "    <tr>\n",
       "      <th>0</th>\n",
       "      <td>2020-02-24</td>\n",
       "      <td>출입국관리법 일부개정법률안(정성호의원 등 10인)</td>\n",
       "      <td>관광 등 단기체류 목적으로 입국하는 외국인은 출입국관리공무원의 입국심사를 받을 때...</td>\n",
       "      <td>정성호(더불어민주당/鄭成湖) 김민기(더불어민주당/金敏基) 김병관(더불어민주당/金炳官...</td>\n",
       "      <td>계류</td>\n",
       "      <td>출입국관리법 일부개정법률안</td>\n",
       "      <td>출입국관리법 일부개정법률안  관광 등 단기체류 목적으로 입국하는 외국인은 출입국관리...</td>\n",
       "    </tr>\n",
       "    <tr>\n",
       "      <th>1</th>\n",
       "      <td>2020-02-24</td>\n",
       "      <td>통신비밀보호법 일부개정법률안(추혜선의원 등 10인)</td>\n",
       "      <td>2018. 8. 30. 헌법재판소는 국가정보원 인터넷회선감청(이른바 ‘패킷감청’)...</td>\n",
       "      <td>추혜선(정의당/秋惠仙) 김종대(정의당/金鍾大) 김종훈(민중당/金鍾勳) 박선숙(바른미...</td>\n",
       "      <td>계류</td>\n",
       "      <td>통신비밀보호법 일부개정법률안</td>\n",
       "      <td>통신비밀보호법 일부개정법률안  2018. 8. 30. 헌법재판소는 국가정보원 인터넷...</td>\n",
       "    </tr>\n",
       "    <tr>\n",
       "      <th>2</th>\n",
       "      <td>2020-02-24</td>\n",
       "      <td>공익사업을 위한 토지 등의 취득 및 보상에 관한 법률 일부개정법률안(신창현의원 등 ...</td>\n",
       "      <td>현행 법령상 도시가스 미공급 지역의 경우, 도시가스 사업자가 도시가스 공급을 위해...</td>\n",
       "      <td>신창현(더불어민주당/申昌賢) 김경협(더불어민주당/金炅俠) 김병기(더불어민주당/金炳基...</td>\n",
       "      <td>계류</td>\n",
       "      <td>공익사업을 위한 토지 등의 취득 및 보상에 관한 법률 일부개정법률안</td>\n",
       "      <td>공익사업을 위한 토지 등의 취득 및 보상에 관한 법률 일부개정법률안  현행 법령상 ...</td>\n",
       "    </tr>\n",
       "    <tr>\n",
       "      <th>3</th>\n",
       "      <td>2020-02-21</td>\n",
       "      <td>군인사법 일부개정법률안(정부)</td>\n",
       "      <td>일과 가정의 양립이 가능한 공직문화 조성을 위하여 첫째 자녀에 대하여 부모가 모두 ...</td>\n",
       "      <td>정부</td>\n",
       "      <td>계류</td>\n",
       "      <td>군인사법 일부개정법률안</td>\n",
       "      <td>군인사법 일부개정법률안 일과 가정의 양립이 가능한 공직문화 조성을 위하여 첫째 자녀...</td>\n",
       "    </tr>\n",
       "    <tr>\n",
       "      <th>4</th>\n",
       "      <td>2020-02-20</td>\n",
       "      <td>중소기업진흥에 관한 법률 일부개정법률안(서영교의원 등 10인)</td>\n",
       "      <td>최근 코로나바이러스감염증-19(COVID-19)의 확산으로 직·간접적으로 경제적 ...</td>\n",
       "      <td>서영교(더불어민주당/徐瑛敎) 김상희(더불어민주당/金相姬) 김철민(더불어민주당/金哲玟...</td>\n",
       "      <td>계류</td>\n",
       "      <td>중소기업진흥에 관한 법률 일부개정법률안</td>\n",
       "      <td>중소기업진흥에 관한 법률 일부개정법률안  최근 코로나바이러스감염증-19(COVID-...</td>\n",
       "    </tr>\n",
       "  </tbody>\n",
       "</table>\n",
       "</div>"
      ],
      "text/plain": [
       "          입안일                                                법안명  \\\n",
       "0  2020-02-24                        출입국관리법 일부개정법률안(정성호의원 등 10인)   \n",
       "1  2020-02-24                       통신비밀보호법 일부개정법률안(추혜선의원 등 10인)   \n",
       "2  2020-02-24  공익사업을 위한 토지 등의 취득 및 보상에 관한 법률 일부개정법률안(신창현의원 등 ...   \n",
       "3  2020-02-21                                   군인사법 일부개정법률안(정부)   \n",
       "4  2020-02-20                 중소기업진흥에 관한 법률 일부개정법률안(서영교의원 등 10인)   \n",
       "\n",
       "                                                법안내용  \\\n",
       "0   관광 등 단기체류 목적으로 입국하는 외국인은 출입국관리공무원의 입국심사를 받을 때...   \n",
       "1   2018. 8. 30. 헌법재판소는 국가정보원 인터넷회선감청(이른바 ‘패킷감청’)...   \n",
       "2   현행 법령상 도시가스 미공급 지역의 경우, 도시가스 사업자가 도시가스 공급을 위해...   \n",
       "3  일과 가정의 양립이 가능한 공직문화 조성을 위하여 첫째 자녀에 대하여 부모가 모두 ...   \n",
       "4   최근 코로나바이러스감염증-19(COVID-19)의 확산으로 직·간접적으로 경제적 ...   \n",
       "\n",
       "                                                 발의자  상태  \\\n",
       "0  정성호(더불어민주당/鄭成湖) 김민기(더불어민주당/金敏基) 김병관(더불어민주당/金炳官...  계류   \n",
       "1  추혜선(정의당/秋惠仙) 김종대(정의당/金鍾大) 김종훈(민중당/金鍾勳) 박선숙(바른미...  계류   \n",
       "2  신창현(더불어민주당/申昌賢) 김경협(더불어민주당/金炅俠) 김병기(더불어민주당/金炳基...  계류   \n",
       "3                                                 정부  계류   \n",
       "4  서영교(더불어민주당/徐瑛敎) 김상희(더불어민주당/金相姬) 김철민(더불어민주당/金哲玟...  계류   \n",
       "\n",
       "                                 법안명_이름만  \\\n",
       "0                         출입국관리법 일부개정법률안   \n",
       "1                        통신비밀보호법 일부개정법률안   \n",
       "2  공익사업을 위한 토지 등의 취득 및 보상에 관한 법률 일부개정법률안   \n",
       "3                           군인사법 일부개정법률안   \n",
       "4                  중소기업진흥에 관한 법률 일부개정법률안   \n",
       "\n",
       "                                            법안명_법안내용  \n",
       "0  출입국관리법 일부개정법률안  관광 등 단기체류 목적으로 입국하는 외국인은 출입국관리...  \n",
       "1  통신비밀보호법 일부개정법률안  2018. 8. 30. 헌법재판소는 국가정보원 인터넷...  \n",
       "2  공익사업을 위한 토지 등의 취득 및 보상에 관한 법률 일부개정법률안  현행 법령상 ...  \n",
       "3  군인사법 일부개정법률안 일과 가정의 양립이 가능한 공직문화 조성을 위하여 첫째 자녀...  \n",
       "4  중소기업진흥에 관한 법률 일부개정법률안  최근 코로나바이러스감염증-19(COVID-...  "
      ]
     },
     "execution_count": 5,
     "metadata": {},
     "output_type": "execute_result"
    }
   ],
   "source": [
    "bills.head()"
   ]
  },
  {
   "cell_type": "markdown",
   "metadata": {},
   "source": [
    "## 다듬기"
   ]
  },
  {
   "cell_type": "code",
   "execution_count": 6,
   "metadata": {
    "scrolled": true
   },
   "outputs": [],
   "source": [
    "bills = bills[(bills['발의자']!='위원장') & (bills['발의자'] != '정부')]"
   ]
  },
  {
   "cell_type": "code",
   "execution_count": 7,
   "metadata": {},
   "outputs": [],
   "source": [
    "bills.drop(columns='법안명', inplace=True)"
   ]
  },
  {
   "cell_type": "code",
   "execution_count": 8,
   "metadata": {},
   "outputs": [],
   "source": [
    "bills.rename(columns={\"법안명_이름만\":\"법안명\", \"법안명_법안내용\":\"법안명,법안내용\"},inplace=True)"
   ]
  },
  {
   "cell_type": "code",
   "execution_count": 9,
   "metadata": {},
   "outputs": [
    {
     "data": {
      "text/plain": [
       "Index(['입안일', '법안내용', '발의자', '상태', '법안명', '법안명,법안내용'], dtype='object')"
      ]
     },
     "execution_count": 9,
     "metadata": {},
     "output_type": "execute_result"
    }
   ],
   "source": [
    "bills.columns"
   ]
  },
  {
   "cell_type": "code",
   "execution_count": 10,
   "metadata": {},
   "outputs": [],
   "source": [
    "bills = bills[['입안일', '법안명', '법안내용', '발의자', '상태']]"
   ]
  },
  {
   "cell_type": "code",
   "execution_count": 11,
   "metadata": {},
   "outputs": [],
   "source": [
    "bills.reset_index(inplace=True)"
   ]
  },
  {
   "cell_type": "code",
   "execution_count": 12,
   "metadata": {},
   "outputs": [
    {
     "data": {
      "text/html": [
       "<div>\n",
       "<style scoped>\n",
       "    .dataframe tbody tr th:only-of-type {\n",
       "        vertical-align: middle;\n",
       "    }\n",
       "\n",
       "    .dataframe tbody tr th {\n",
       "        vertical-align: top;\n",
       "    }\n",
       "\n",
       "    .dataframe thead th {\n",
       "        text-align: right;\n",
       "    }\n",
       "</style>\n",
       "<table border=\"1\" class=\"dataframe\">\n",
       "  <thead>\n",
       "    <tr style=\"text-align: right;\">\n",
       "      <th></th>\n",
       "      <th>index</th>\n",
       "      <th>입안일</th>\n",
       "      <th>법안명</th>\n",
       "      <th>법안내용</th>\n",
       "      <th>발의자</th>\n",
       "      <th>상태</th>\n",
       "    </tr>\n",
       "  </thead>\n",
       "  <tbody>\n",
       "    <tr>\n",
       "      <th>0</th>\n",
       "      <td>0</td>\n",
       "      <td>2020-02-24</td>\n",
       "      <td>출입국관리법 일부개정법률안</td>\n",
       "      <td>관광 등 단기체류 목적으로 입국하는 외국인은 출입국관리공무원의 입국심사를 받을 때...</td>\n",
       "      <td>정성호(더불어민주당/鄭成湖) 김민기(더불어민주당/金敏基) 김병관(더불어민주당/金炳官...</td>\n",
       "      <td>계류</td>\n",
       "    </tr>\n",
       "    <tr>\n",
       "      <th>1</th>\n",
       "      <td>1</td>\n",
       "      <td>2020-02-24</td>\n",
       "      <td>통신비밀보호법 일부개정법률안</td>\n",
       "      <td>2018. 8. 30. 헌법재판소는 국가정보원 인터넷회선감청(이른바 ‘패킷감청’)...</td>\n",
       "      <td>추혜선(정의당/秋惠仙) 김종대(정의당/金鍾大) 김종훈(민중당/金鍾勳) 박선숙(바른미...</td>\n",
       "      <td>계류</td>\n",
       "    </tr>\n",
       "    <tr>\n",
       "      <th>2</th>\n",
       "      <td>2</td>\n",
       "      <td>2020-02-24</td>\n",
       "      <td>공익사업을 위한 토지 등의 취득 및 보상에 관한 법률 일부개정법률안</td>\n",
       "      <td>현행 법령상 도시가스 미공급 지역의 경우, 도시가스 사업자가 도시가스 공급을 위해...</td>\n",
       "      <td>신창현(더불어민주당/申昌賢) 김경협(더불어민주당/金炅俠) 김병기(더불어민주당/金炳基...</td>\n",
       "      <td>계류</td>\n",
       "    </tr>\n",
       "    <tr>\n",
       "      <th>3</th>\n",
       "      <td>4</td>\n",
       "      <td>2020-02-20</td>\n",
       "      <td>중소기업진흥에 관한 법률 일부개정법률안</td>\n",
       "      <td>최근 코로나바이러스감염증-19(COVID-19)의 확산으로 직·간접적으로 경제적 ...</td>\n",
       "      <td>서영교(더불어민주당/徐瑛敎) 김상희(더불어민주당/金相姬) 김철민(더불어민주당/金哲玟...</td>\n",
       "      <td>계류</td>\n",
       "    </tr>\n",
       "    <tr>\n",
       "      <th>4</th>\n",
       "      <td>5</td>\n",
       "      <td>2020-02-19</td>\n",
       "      <td>주거급여법 일부개정법률안</td>\n",
       "      <td>현행법은 「국민기초생활 보장법」 관련 규정을 준용하여 주거급여를 실시하기 위한 비...</td>\n",
       "      <td>함진규(자유한국당/咸珍圭) 강석진(자유한국당/姜錫振) 김성원(자유한국당/金成願) 김...</td>\n",
       "      <td>계류</td>\n",
       "    </tr>\n",
       "  </tbody>\n",
       "</table>\n",
       "</div>"
      ],
      "text/plain": [
       "   index         입안일                                    법안명  \\\n",
       "0      0  2020-02-24                         출입국관리법 일부개정법률안   \n",
       "1      1  2020-02-24                        통신비밀보호법 일부개정법률안   \n",
       "2      2  2020-02-24  공익사업을 위한 토지 등의 취득 및 보상에 관한 법률 일부개정법률안   \n",
       "3      4  2020-02-20                  중소기업진흥에 관한 법률 일부개정법률안   \n",
       "4      5  2020-02-19                          주거급여법 일부개정법률안   \n",
       "\n",
       "                                                법안내용  \\\n",
       "0   관광 등 단기체류 목적으로 입국하는 외국인은 출입국관리공무원의 입국심사를 받을 때...   \n",
       "1   2018. 8. 30. 헌법재판소는 국가정보원 인터넷회선감청(이른바 ‘패킷감청’)...   \n",
       "2   현행 법령상 도시가스 미공급 지역의 경우, 도시가스 사업자가 도시가스 공급을 위해...   \n",
       "3   최근 코로나바이러스감염증-19(COVID-19)의 확산으로 직·간접적으로 경제적 ...   \n",
       "4   현행법은 「국민기초생활 보장법」 관련 규정을 준용하여 주거급여를 실시하기 위한 비...   \n",
       "\n",
       "                                                 발의자  상태  \n",
       "0  정성호(더불어민주당/鄭成湖) 김민기(더불어민주당/金敏基) 김병관(더불어민주당/金炳官...  계류  \n",
       "1  추혜선(정의당/秋惠仙) 김종대(정의당/金鍾大) 김종훈(민중당/金鍾勳) 박선숙(바른미...  계류  \n",
       "2  신창현(더불어민주당/申昌賢) 김경협(더불어민주당/金炅俠) 김병기(더불어민주당/金炳基...  계류  \n",
       "3  서영교(더불어민주당/徐瑛敎) 김상희(더불어민주당/金相姬) 김철민(더불어민주당/金哲玟...  계류  \n",
       "4  함진규(자유한국당/咸珍圭) 강석진(자유한국당/姜錫振) 김성원(자유한국당/金成願) 김...  계류  "
      ]
     },
     "execution_count": 12,
     "metadata": {},
     "output_type": "execute_result"
    }
   ],
   "source": [
    "bills.head()"
   ]
  },
  {
   "cell_type": "code",
   "execution_count": 13,
   "metadata": {},
   "outputs": [
    {
     "data": {
      "text/html": [
       "<div>\n",
       "<style scoped>\n",
       "    .dataframe tbody tr th:only-of-type {\n",
       "        vertical-align: middle;\n",
       "    }\n",
       "\n",
       "    .dataframe tbody tr th {\n",
       "        vertical-align: top;\n",
       "    }\n",
       "\n",
       "    .dataframe thead th {\n",
       "        text-align: right;\n",
       "    }\n",
       "</style>\n",
       "<table border=\"1\" class=\"dataframe\">\n",
       "  <thead>\n",
       "    <tr style=\"text-align: right;\">\n",
       "      <th></th>\n",
       "      <th>level_0</th>\n",
       "      <th>index</th>\n",
       "      <th>입안일</th>\n",
       "      <th>법안명</th>\n",
       "      <th>법안내용</th>\n",
       "      <th>발의자</th>\n",
       "      <th>상태</th>\n",
       "    </tr>\n",
       "  </thead>\n",
       "  <tbody>\n",
       "    <tr>\n",
       "      <th>0</th>\n",
       "      <td>0</td>\n",
       "      <td>0</td>\n",
       "      <td>2020-02-24</td>\n",
       "      <td>출입국관리법 일부개정법률안</td>\n",
       "      <td>관광 등 단기체류 목적으로 입국하는 외국인은 출입국관리공무원의 입국심사를 받을 때...</td>\n",
       "      <td>정성호(더불어민주당/鄭成湖) 김민기(더불어민주당/金敏基) 김병관(더불어민주당/金炳官...</td>\n",
       "      <td>계류</td>\n",
       "    </tr>\n",
       "    <tr>\n",
       "      <th>1</th>\n",
       "      <td>1</td>\n",
       "      <td>1</td>\n",
       "      <td>2020-02-24</td>\n",
       "      <td>통신비밀보호법 일부개정법률안</td>\n",
       "      <td>2018. 8. 30. 헌법재판소는 국가정보원 인터넷회선감청(이른바 ‘패킷감청’)...</td>\n",
       "      <td>추혜선(정의당/秋惠仙) 김종대(정의당/金鍾大) 김종훈(민중당/金鍾勳) 박선숙(바른미...</td>\n",
       "      <td>계류</td>\n",
       "    </tr>\n",
       "    <tr>\n",
       "      <th>2</th>\n",
       "      <td>2</td>\n",
       "      <td>2</td>\n",
       "      <td>2020-02-24</td>\n",
       "      <td>공익사업을 위한 토지 등의 취득 및 보상에 관한 법률 일부개정법률안</td>\n",
       "      <td>현행 법령상 도시가스 미공급 지역의 경우, 도시가스 사업자가 도시가스 공급을 위해...</td>\n",
       "      <td>신창현(더불어민주당/申昌賢) 김경협(더불어민주당/金炅俠) 김병기(더불어민주당/金炳基...</td>\n",
       "      <td>계류</td>\n",
       "    </tr>\n",
       "    <tr>\n",
       "      <th>3</th>\n",
       "      <td>3</td>\n",
       "      <td>4</td>\n",
       "      <td>2020-02-20</td>\n",
       "      <td>중소기업진흥에 관한 법률 일부개정법률안</td>\n",
       "      <td>최근 코로나바이러스감염증-19(COVID-19)의 확산으로 직·간접적으로 경제적 ...</td>\n",
       "      <td>서영교(더불어민주당/徐瑛敎) 김상희(더불어민주당/金相姬) 김철민(더불어민주당/金哲玟...</td>\n",
       "      <td>계류</td>\n",
       "    </tr>\n",
       "    <tr>\n",
       "      <th>4</th>\n",
       "      <td>4</td>\n",
       "      <td>5</td>\n",
       "      <td>2020-02-19</td>\n",
       "      <td>주거급여법 일부개정법률안</td>\n",
       "      <td>현행법은 「국민기초생활 보장법」 관련 규정을 준용하여 주거급여를 실시하기 위한 비...</td>\n",
       "      <td>함진규(자유한국당/咸珍圭) 강석진(자유한국당/姜錫振) 김성원(자유한국당/金成願) 김...</td>\n",
       "      <td>계류</td>\n",
       "    </tr>\n",
       "  </tbody>\n",
       "</table>\n",
       "</div>"
      ],
      "text/plain": [
       "   level_0  index         입안일                                    법안명  \\\n",
       "0        0      0  2020-02-24                         출입국관리법 일부개정법률안   \n",
       "1        1      1  2020-02-24                        통신비밀보호법 일부개정법률안   \n",
       "2        2      2  2020-02-24  공익사업을 위한 토지 등의 취득 및 보상에 관한 법률 일부개정법률안   \n",
       "3        3      4  2020-02-20                  중소기업진흥에 관한 법률 일부개정법률안   \n",
       "4        4      5  2020-02-19                          주거급여법 일부개정법률안   \n",
       "\n",
       "                                                법안내용  \\\n",
       "0   관광 등 단기체류 목적으로 입국하는 외국인은 출입국관리공무원의 입국심사를 받을 때...   \n",
       "1   2018. 8. 30. 헌법재판소는 국가정보원 인터넷회선감청(이른바 ‘패킷감청’)...   \n",
       "2   현행 법령상 도시가스 미공급 지역의 경우, 도시가스 사업자가 도시가스 공급을 위해...   \n",
       "3   최근 코로나바이러스감염증-19(COVID-19)의 확산으로 직·간접적으로 경제적 ...   \n",
       "4   현행법은 「국민기초생활 보장법」 관련 규정을 준용하여 주거급여를 실시하기 위한 비...   \n",
       "\n",
       "                                                 발의자  상태  \n",
       "0  정성호(더불어민주당/鄭成湖) 김민기(더불어민주당/金敏基) 김병관(더불어민주당/金炳官...  계류  \n",
       "1  추혜선(정의당/秋惠仙) 김종대(정의당/金鍾大) 김종훈(민중당/金鍾勳) 박선숙(바른미...  계류  \n",
       "2  신창현(더불어민주당/申昌賢) 김경협(더불어민주당/金炅俠) 김병기(더불어민주당/金炳基...  계류  \n",
       "3  서영교(더불어민주당/徐瑛敎) 김상희(더불어민주당/金相姬) 김철민(더불어민주당/金哲玟...  계류  \n",
       "4  함진규(자유한국당/咸珍圭) 강석진(자유한국당/姜錫振) 김성원(자유한국당/金成願) 김...  계류  "
      ]
     },
     "execution_count": 13,
     "metadata": {},
     "output_type": "execute_result"
    }
   ],
   "source": [
    "bills.reset_index(inplace=True)\n",
    "bills.head()"
   ]
  },
  {
   "cell_type": "code",
   "execution_count": 14,
   "metadata": {},
   "outputs": [],
   "source": [
    "bills.dropna(axis=0, inplace=True)"
   ]
  },
  {
   "cell_type": "code",
   "execution_count": null,
   "metadata": {},
   "outputs": [],
   "source": [
    "bills.drop(columns=['index', 'level_0'], inplace=True)\n",
    "bills.reset_index(inplace=True)"
   ]
  },
  {
   "cell_type": "code",
   "execution_count": 17,
   "metadata": {},
   "outputs": [
    {
     "data": {
      "text/html": [
       "<div>\n",
       "<style scoped>\n",
       "    .dataframe tbody tr th:only-of-type {\n",
       "        vertical-align: middle;\n",
       "    }\n",
       "\n",
       "    .dataframe tbody tr th {\n",
       "        vertical-align: top;\n",
       "    }\n",
       "\n",
       "    .dataframe thead th {\n",
       "        text-align: right;\n",
       "    }\n",
       "</style>\n",
       "<table border=\"1\" class=\"dataframe\">\n",
       "  <thead>\n",
       "    <tr style=\"text-align: right;\">\n",
       "      <th></th>\n",
       "      <th>입안일</th>\n",
       "      <th>법안명</th>\n",
       "      <th>법안내용</th>\n",
       "      <th>발의자</th>\n",
       "      <th>상태</th>\n",
       "    </tr>\n",
       "  </thead>\n",
       "  <tbody>\n",
       "    <tr>\n",
       "      <th>0</th>\n",
       "      <td>2020-02-24</td>\n",
       "      <td>출입국관리법 일부개정법률안</td>\n",
       "      <td>관광 등 단기체류 목적으로 입국하는 외국인은 출입국관리공무원의 입국심사를 받을 때...</td>\n",
       "      <td>정성호(더불어민주당/鄭成湖) 김민기(더불어민주당/金敏基) 김병관(더불어민주당/金炳官...</td>\n",
       "      <td>계류</td>\n",
       "    </tr>\n",
       "    <tr>\n",
       "      <th>1</th>\n",
       "      <td>2020-02-24</td>\n",
       "      <td>통신비밀보호법 일부개정법률안</td>\n",
       "      <td>2018. 8. 30. 헌법재판소는 국가정보원 인터넷회선감청(이른바 ‘패킷감청’)...</td>\n",
       "      <td>추혜선(정의당/秋惠仙) 김종대(정의당/金鍾大) 김종훈(민중당/金鍾勳) 박선숙(바른미...</td>\n",
       "      <td>계류</td>\n",
       "    </tr>\n",
       "    <tr>\n",
       "      <th>2</th>\n",
       "      <td>2020-02-24</td>\n",
       "      <td>공익사업을 위한 토지 등의 취득 및 보상에 관한 법률 일부개정법률안</td>\n",
       "      <td>현행 법령상 도시가스 미공급 지역의 경우, 도시가스 사업자가 도시가스 공급을 위해...</td>\n",
       "      <td>신창현(더불어민주당/申昌賢) 김경협(더불어민주당/金炅俠) 김병기(더불어민주당/金炳基...</td>\n",
       "      <td>계류</td>\n",
       "    </tr>\n",
       "    <tr>\n",
       "      <th>3</th>\n",
       "      <td>2020-02-20</td>\n",
       "      <td>중소기업진흥에 관한 법률 일부개정법률안</td>\n",
       "      <td>최근 코로나바이러스감염증-19(COVID-19)의 확산으로 직·간접적으로 경제적 ...</td>\n",
       "      <td>서영교(더불어민주당/徐瑛敎) 김상희(더불어민주당/金相姬) 김철민(더불어민주당/金哲玟...</td>\n",
       "      <td>계류</td>\n",
       "    </tr>\n",
       "    <tr>\n",
       "      <th>4</th>\n",
       "      <td>2020-02-19</td>\n",
       "      <td>주거급여법 일부개정법률안</td>\n",
       "      <td>현행법은 「국민기초생활 보장법」 관련 규정을 준용하여 주거급여를 실시하기 위한 비...</td>\n",
       "      <td>함진규(자유한국당/咸珍圭) 강석진(자유한국당/姜錫振) 김성원(자유한국당/金成願) 김...</td>\n",
       "      <td>계류</td>\n",
       "    </tr>\n",
       "  </tbody>\n",
       "</table>\n",
       "</div>"
      ],
      "text/plain": [
       "          입안일                                    법안명  \\\n",
       "0  2020-02-24                         출입국관리법 일부개정법률안   \n",
       "1  2020-02-24                        통신비밀보호법 일부개정법률안   \n",
       "2  2020-02-24  공익사업을 위한 토지 등의 취득 및 보상에 관한 법률 일부개정법률안   \n",
       "3  2020-02-20                  중소기업진흥에 관한 법률 일부개정법률안   \n",
       "4  2020-02-19                          주거급여법 일부개정법률안   \n",
       "\n",
       "                                                법안내용  \\\n",
       "0   관광 등 단기체류 목적으로 입국하는 외국인은 출입국관리공무원의 입국심사를 받을 때...   \n",
       "1   2018. 8. 30. 헌법재판소는 국가정보원 인터넷회선감청(이른바 ‘패킷감청’)...   \n",
       "2   현행 법령상 도시가스 미공급 지역의 경우, 도시가스 사업자가 도시가스 공급을 위해...   \n",
       "3   최근 코로나바이러스감염증-19(COVID-19)의 확산으로 직·간접적으로 경제적 ...   \n",
       "4   현행법은 「국민기초생활 보장법」 관련 규정을 준용하여 주거급여를 실시하기 위한 비...   \n",
       "\n",
       "                                                 발의자  상태  \n",
       "0  정성호(더불어민주당/鄭成湖) 김민기(더불어민주당/金敏基) 김병관(더불어민주당/金炳官...  계류  \n",
       "1  추혜선(정의당/秋惠仙) 김종대(정의당/金鍾大) 김종훈(민중당/金鍾勳) 박선숙(바른미...  계류  \n",
       "2  신창현(더불어민주당/申昌賢) 김경협(더불어민주당/金炅俠) 김병기(더불어민주당/金炳基...  계류  \n",
       "3  서영교(더불어민주당/徐瑛敎) 김상희(더불어민주당/金相姬) 김철민(더불어민주당/金哲玟...  계류  \n",
       "4  함진규(자유한국당/咸珍圭) 강석진(자유한국당/姜錫振) 김성원(자유한국당/金成願) 김...  계류  "
      ]
     },
     "execution_count": 17,
     "metadata": {},
     "output_type": "execute_result"
    }
   ],
   "source": [
    "bills.drop(columns='index', inplace=True)\n",
    "bills.head()"
   ]
  },
  {
   "cell_type": "code",
   "execution_count": 21,
   "metadata": {
    "scrolled": true
   },
   "outputs": [
    {
     "data": {
      "text/html": [
       "<div>\n",
       "<style scoped>\n",
       "    .dataframe tbody tr th:only-of-type {\n",
       "        vertical-align: middle;\n",
       "    }\n",
       "\n",
       "    .dataframe tbody tr th {\n",
       "        vertical-align: top;\n",
       "    }\n",
       "\n",
       "    .dataframe thead th {\n",
       "        text-align: right;\n",
       "    }\n",
       "</style>\n",
       "<table border=\"1\" class=\"dataframe\">\n",
       "  <thead>\n",
       "    <tr style=\"text-align: right;\">\n",
       "      <th></th>\n",
       "      <th>level_0</th>\n",
       "      <th>index</th>\n",
       "      <th>입안일</th>\n",
       "      <th>법안명</th>\n",
       "      <th>법안내용</th>\n",
       "      <th>발의자</th>\n",
       "      <th>상태</th>\n",
       "    </tr>\n",
       "  </thead>\n",
       "  <tbody>\n",
       "    <tr>\n",
       "      <th>0</th>\n",
       "      <td>0</td>\n",
       "      <td>0</td>\n",
       "      <td>2020-02-24</td>\n",
       "      <td>출입국관리법 일부개정법률안</td>\n",
       "      <td>관광 등 단기체류 목적으로 입국하는 외국인은 출입국관리공무원의 입국심사를 받을 때...</td>\n",
       "      <td>정성호(더불어민주당/鄭成湖) 김민기(더불어민주당/金敏基) 김병관(더불어민주당/金炳官...</td>\n",
       "      <td>계류</td>\n",
       "    </tr>\n",
       "    <tr>\n",
       "      <th>1</th>\n",
       "      <td>1</td>\n",
       "      <td>1</td>\n",
       "      <td>2020-02-24</td>\n",
       "      <td>통신비밀보호법 일부개정법률안</td>\n",
       "      <td>2018. 8. 30. 헌법재판소는 국가정보원 인터넷회선감청(이른바 ‘패킷감청’)...</td>\n",
       "      <td>추혜선(정의당/秋惠仙) 김종대(정의당/金鍾大) 김종훈(민중당/金鍾勳) 박선숙(바른미...</td>\n",
       "      <td>계류</td>\n",
       "    </tr>\n",
       "    <tr>\n",
       "      <th>2</th>\n",
       "      <td>2</td>\n",
       "      <td>2</td>\n",
       "      <td>2020-02-24</td>\n",
       "      <td>공익사업을 위한 토지 등의 취득 및 보상에 관한 법률 일부개정법률안</td>\n",
       "      <td>현행 법령상 도시가스 미공급 지역의 경우, 도시가스 사업자가 도시가스 공급을 위해...</td>\n",
       "      <td>신창현(더불어민주당/申昌賢) 김경협(더불어민주당/金炅俠) 김병기(더불어민주당/金炳基...</td>\n",
       "      <td>계류</td>\n",
       "    </tr>\n",
       "    <tr>\n",
       "      <th>3</th>\n",
       "      <td>3</td>\n",
       "      <td>3</td>\n",
       "      <td>2020-02-20</td>\n",
       "      <td>중소기업진흥에 관한 법률 일부개정법률안</td>\n",
       "      <td>최근 코로나바이러스감염증-19(COVID-19)의 확산으로 직·간접적으로 경제적 ...</td>\n",
       "      <td>서영교(더불어민주당/徐瑛敎) 김상희(더불어민주당/金相姬) 김철민(더불어민주당/金哲玟...</td>\n",
       "      <td>계류</td>\n",
       "    </tr>\n",
       "    <tr>\n",
       "      <th>4</th>\n",
       "      <td>4</td>\n",
       "      <td>4</td>\n",
       "      <td>2020-02-19</td>\n",
       "      <td>주거급여법 일부개정법률안</td>\n",
       "      <td>현행법은 「국민기초생활 보장법」 관련 규정을 준용하여 주거급여를 실시하기 위한 비...</td>\n",
       "      <td>함진규(자유한국당/咸珍圭) 강석진(자유한국당/姜錫振) 김성원(자유한국당/金成願) 김...</td>\n",
       "      <td>계류</td>\n",
       "    </tr>\n",
       "  </tbody>\n",
       "</table>\n",
       "</div>"
      ],
      "text/plain": [
       "   level_0  index         입안일                                    법안명  \\\n",
       "0        0      0  2020-02-24                         출입국관리법 일부개정법률안   \n",
       "1        1      1  2020-02-24                        통신비밀보호법 일부개정법률안   \n",
       "2        2      2  2020-02-24  공익사업을 위한 토지 등의 취득 및 보상에 관한 법률 일부개정법률안   \n",
       "3        3      3  2020-02-20                  중소기업진흥에 관한 법률 일부개정법률안   \n",
       "4        4      4  2020-02-19                          주거급여법 일부개정법률안   \n",
       "\n",
       "                                                법안내용  \\\n",
       "0   관광 등 단기체류 목적으로 입국하는 외국인은 출입국관리공무원의 입국심사를 받을 때...   \n",
       "1   2018. 8. 30. 헌법재판소는 국가정보원 인터넷회선감청(이른바 ‘패킷감청’)...   \n",
       "2   현행 법령상 도시가스 미공급 지역의 경우, 도시가스 사업자가 도시가스 공급을 위해...   \n",
       "3   최근 코로나바이러스감염증-19(COVID-19)의 확산으로 직·간접적으로 경제적 ...   \n",
       "4   현행법은 「국민기초생활 보장법」 관련 규정을 준용하여 주거급여를 실시하기 위한 비...   \n",
       "\n",
       "                                                 발의자  상태  \n",
       "0  정성호(더불어민주당/鄭成湖) 김민기(더불어민주당/金敏基) 김병관(더불어민주당/金炳官...  계류  \n",
       "1  추혜선(정의당/秋惠仙) 김종대(정의당/金鍾大) 김종훈(민중당/金鍾勳) 박선숙(바른미...  계류  \n",
       "2  신창현(더불어민주당/申昌賢) 김경협(더불어민주당/金炅俠) 김병기(더불어민주당/金炳基...  계류  \n",
       "3  서영교(더불어민주당/徐瑛敎) 김상희(더불어민주당/金相姬) 김철민(더불어민주당/金哲玟...  계류  \n",
       "4  함진규(자유한국당/咸珍圭) 강석진(자유한국당/姜錫振) 김성원(자유한국당/金成願) 김...  계류  "
      ]
     },
     "execution_count": 21,
     "metadata": {},
     "output_type": "execute_result"
    }
   ],
   "source": [
    "bills.reset_index(inplace=True)\n",
    "bills.head()"
   ]
  },
  {
   "cell_type": "code",
   "execution_count": 22,
   "metadata": {},
   "outputs": [],
   "source": [
    "bills.to_csv(\"bills_21449_index.csv\", index=False)"
   ]
  },
  {
   "cell_type": "markdown",
   "metadata": {},
   "source": [
    "## 완료!!!"
   ]
  },
  {
   "cell_type": "markdown",
   "metadata": {},
   "source": [
    "# 나누기 시작"
   ]
  },
  {
   "cell_type": "code",
   "execution_count": 23,
   "metadata": {},
   "outputs": [],
   "source": [
    "df = pd.read_csv(\"bills_21449_index.csv\")"
   ]
  },
  {
   "cell_type": "code",
   "execution_count": 24,
   "metadata": {},
   "outputs": [],
   "source": [
    "hw = bills[['index','법안명', '법안내용']]"
   ]
  },
  {
   "cell_type": "code",
   "execution_count": 26,
   "metadata": {},
   "outputs": [
    {
     "data": {
      "text/html": [
       "<div>\n",
       "<style scoped>\n",
       "    .dataframe tbody tr th:only-of-type {\n",
       "        vertical-align: middle;\n",
       "    }\n",
       "\n",
       "    .dataframe tbody tr th {\n",
       "        vertical-align: top;\n",
       "    }\n",
       "\n",
       "    .dataframe thead th {\n",
       "        text-align: right;\n",
       "    }\n",
       "</style>\n",
       "<table border=\"1\" class=\"dataframe\">\n",
       "  <thead>\n",
       "    <tr style=\"text-align: right;\">\n",
       "      <th></th>\n",
       "      <th>index</th>\n",
       "      <th>법안명</th>\n",
       "      <th>법안내용</th>\n",
       "    </tr>\n",
       "  </thead>\n",
       "  <tbody>\n",
       "    <tr>\n",
       "      <th>0</th>\n",
       "      <td>0</td>\n",
       "      <td>출입국관리법 일부개정법률안</td>\n",
       "      <td>관광 등 단기체류 목적으로 입국하는 외국인은 출입국관리공무원의 입국심사를 받을 때...</td>\n",
       "    </tr>\n",
       "    <tr>\n",
       "      <th>1</th>\n",
       "      <td>1</td>\n",
       "      <td>통신비밀보호법 일부개정법률안</td>\n",
       "      <td>2018. 8. 30. 헌법재판소는 국가정보원 인터넷회선감청(이른바 ‘패킷감청’)...</td>\n",
       "    </tr>\n",
       "    <tr>\n",
       "      <th>2</th>\n",
       "      <td>2</td>\n",
       "      <td>공익사업을 위한 토지 등의 취득 및 보상에 관한 법률 일부개정법률안</td>\n",
       "      <td>현행 법령상 도시가스 미공급 지역의 경우, 도시가스 사업자가 도시가스 공급을 위해...</td>\n",
       "    </tr>\n",
       "    <tr>\n",
       "      <th>3</th>\n",
       "      <td>3</td>\n",
       "      <td>중소기업진흥에 관한 법률 일부개정법률안</td>\n",
       "      <td>최근 코로나바이러스감염증-19(COVID-19)의 확산으로 직·간접적으로 경제적 ...</td>\n",
       "    </tr>\n",
       "    <tr>\n",
       "      <th>4</th>\n",
       "      <td>4</td>\n",
       "      <td>주거급여법 일부개정법률안</td>\n",
       "      <td>현행법은 「국민기초생활 보장법」 관련 규정을 준용하여 주거급여를 실시하기 위한 비...</td>\n",
       "    </tr>\n",
       "  </tbody>\n",
       "</table>\n",
       "</div>"
      ],
      "text/plain": [
       "   index                                    법안명  \\\n",
       "0      0                         출입국관리법 일부개정법률안   \n",
       "1      1                        통신비밀보호법 일부개정법률안   \n",
       "2      2  공익사업을 위한 토지 등의 취득 및 보상에 관한 법률 일부개정법률안   \n",
       "3      3                  중소기업진흥에 관한 법률 일부개정법률안   \n",
       "4      4                          주거급여법 일부개정법률안   \n",
       "\n",
       "                                                법안내용  \n",
       "0   관광 등 단기체류 목적으로 입국하는 외국인은 출입국관리공무원의 입국심사를 받을 때...  \n",
       "1   2018. 8. 30. 헌법재판소는 국가정보원 인터넷회선감청(이른바 ‘패킷감청’)...  \n",
       "2   현행 법령상 도시가스 미공급 지역의 경우, 도시가스 사업자가 도시가스 공급을 위해...  \n",
       "3   최근 코로나바이러스감염증-19(COVID-19)의 확산으로 직·간접적으로 경제적 ...  \n",
       "4   현행법은 「국민기초생활 보장법」 관련 규정을 준용하여 주거급여를 실시하기 위한 비...  "
      ]
     },
     "execution_count": 26,
     "metadata": {},
     "output_type": "execute_result"
    }
   ],
   "source": [
    "hw.head()"
   ]
  },
  {
   "cell_type": "markdown",
   "metadata": {},
   "source": [
    "## tokenized 진행"
   ]
  },
  {
   "cell_type": "code",
   "execution_count": 28,
   "metadata": {},
   "outputs": [],
   "source": [
    "mecab = Mecab()\n",
    "def tokenized_mecab(data):\n",
    "    result = mecab.morphs(data)\n",
    "    result = ' '.join(result)\n",
    "    return result"
   ]
  },
  {
   "cell_type": "code",
   "execution_count": 30,
   "metadata": {},
   "outputs": [
    {
     "data": {
      "text/html": [
       "<div>\n",
       "<style scoped>\n",
       "    .dataframe tbody tr th:only-of-type {\n",
       "        vertical-align: middle;\n",
       "    }\n",
       "\n",
       "    .dataframe tbody tr th {\n",
       "        vertical-align: top;\n",
       "    }\n",
       "\n",
       "    .dataframe thead th {\n",
       "        text-align: right;\n",
       "    }\n",
       "</style>\n",
       "<table border=\"1\" class=\"dataframe\">\n",
       "  <thead>\n",
       "    <tr style=\"text-align: right;\">\n",
       "      <th></th>\n",
       "      <th>index</th>\n",
       "      <th>법안명</th>\n",
       "      <th>법안내용</th>\n",
       "    </tr>\n",
       "  </thead>\n",
       "  <tbody>\n",
       "    <tr>\n",
       "      <th>0</th>\n",
       "      <td>0</td>\n",
       "      <td>출입국관리법 일부개정법률안</td>\n",
       "      <td>관광 등 단기체류 목적으로 입국하는 외국인은 출입국관리공무원의 입국심사를 받을 때...</td>\n",
       "    </tr>\n",
       "    <tr>\n",
       "      <th>1</th>\n",
       "      <td>1</td>\n",
       "      <td>통신비밀보호법 일부개정법률안</td>\n",
       "      <td>2018. 8. 30. 헌법재판소는 국가정보원 인터넷회선감청(이른바 ‘패킷감청’)...</td>\n",
       "    </tr>\n",
       "    <tr>\n",
       "      <th>2</th>\n",
       "      <td>2</td>\n",
       "      <td>공익사업을 위한 토지 등의 취득 및 보상에 관한 법률 일부개정법률안</td>\n",
       "      <td>현행 법령상 도시가스 미공급 지역의 경우, 도시가스 사업자가 도시가스 공급을 위해...</td>\n",
       "    </tr>\n",
       "    <tr>\n",
       "      <th>3</th>\n",
       "      <td>3</td>\n",
       "      <td>중소기업진흥에 관한 법률 일부개정법률안</td>\n",
       "      <td>최근 코로나바이러스감염증-19(COVID-19)의 확산으로 직·간접적으로 경제적 ...</td>\n",
       "    </tr>\n",
       "    <tr>\n",
       "      <th>4</th>\n",
       "      <td>4</td>\n",
       "      <td>주거급여법 일부개정법률안</td>\n",
       "      <td>현행법은 「국민기초생활 보장법」 관련 규정을 준용하여 주거급여를 실시하기 위한 비...</td>\n",
       "    </tr>\n",
       "  </tbody>\n",
       "</table>\n",
       "</div>"
      ],
      "text/plain": [
       "   index                                    법안명  \\\n",
       "0      0                         출입국관리법 일부개정법률안   \n",
       "1      1                        통신비밀보호법 일부개정법률안   \n",
       "2      2  공익사업을 위한 토지 등의 취득 및 보상에 관한 법률 일부개정법률안   \n",
       "3      3                  중소기업진흥에 관한 법률 일부개정법률안   \n",
       "4      4                          주거급여법 일부개정법률안   \n",
       "\n",
       "                                                법안내용  \n",
       "0   관광 등 단기체류 목적으로 입국하는 외국인은 출입국관리공무원의 입국심사를 받을 때...  \n",
       "1   2018. 8. 30. 헌법재판소는 국가정보원 인터넷회선감청(이른바 ‘패킷감청’)...  \n",
       "2   현행 법령상 도시가스 미공급 지역의 경우, 도시가스 사업자가 도시가스 공급을 위해...  \n",
       "3   최근 코로나바이러스감염증-19(COVID-19)의 확산으로 직·간접적으로 경제적 ...  \n",
       "4   현행법은 「국민기초생활 보장법」 관련 규정을 준용하여 주거급여를 실시하기 위한 비...  "
      ]
     },
     "execution_count": 30,
     "metadata": {},
     "output_type": "execute_result"
    }
   ],
   "source": [
    "hw.head()"
   ]
  },
  {
   "cell_type": "code",
   "execution_count": 32,
   "metadata": {},
   "outputs": [
    {
     "name": "stderr",
     "output_type": "stream",
     "text": [
      "<ipython-input-32-ba3c894a690e>:1: SettingWithCopyWarning: \n",
      "A value is trying to be set on a copy of a slice from a DataFrame.\n",
      "Try using .loc[row_indexer,col_indexer] = value instead\n",
      "\n",
      "See the caveats in the documentation: https://pandas.pydata.org/pandas-docs/stable/user_guide/indexing.html#returning-a-view-versus-a-copy\n",
      "  hw['tokenized'] = hw['법안내용'].apply(tokenized_mecab)\n"
     ]
    }
   ],
   "source": [
    "hw['tokenized'] = hw['법안내용'].apply(tokenized_mecab)"
   ]
  },
  {
   "cell_type": "markdown",
   "metadata": {},
   "source": [
    "### tokenized 완료"
   ]
  },
  {
   "cell_type": "code",
   "execution_count": 33,
   "metadata": {},
   "outputs": [
    {
     "data": {
      "text/html": [
       "<div>\n",
       "<style scoped>\n",
       "    .dataframe tbody tr th:only-of-type {\n",
       "        vertical-align: middle;\n",
       "    }\n",
       "\n",
       "    .dataframe tbody tr th {\n",
       "        vertical-align: top;\n",
       "    }\n",
       "\n",
       "    .dataframe thead th {\n",
       "        text-align: right;\n",
       "    }\n",
       "</style>\n",
       "<table border=\"1\" class=\"dataframe\">\n",
       "  <thead>\n",
       "    <tr style=\"text-align: right;\">\n",
       "      <th></th>\n",
       "      <th>index</th>\n",
       "      <th>법안명</th>\n",
       "      <th>법안내용</th>\n",
       "      <th>tokenized</th>\n",
       "    </tr>\n",
       "  </thead>\n",
       "  <tbody>\n",
       "    <tr>\n",
       "      <th>0</th>\n",
       "      <td>0</td>\n",
       "      <td>출입국관리법 일부개정법률안</td>\n",
       "      <td>관광 등 단기체류 목적으로 입국하는 외국인은 출입국관리공무원의 입국심사를 받을 때...</td>\n",
       "      <td>관광 등 단기체류 목적 으로 입국 하 는 외국인 은 출입국관리공무원 의 입국 심사 ...</td>\n",
       "    </tr>\n",
       "    <tr>\n",
       "      <th>1</th>\n",
       "      <td>1</td>\n",
       "      <td>통신비밀보호법 일부개정법률안</td>\n",
       "      <td>2018. 8. 30. 헌법재판소는 국가정보원 인터넷회선감청(이른바 ‘패킷감청’)...</td>\n",
       "      <td>2018 . 8 . 30 . 헌법재판소 는 국가정보원 인터넷 회선 감청 ( 이른바 ...</td>\n",
       "    </tr>\n",
       "    <tr>\n",
       "      <th>2</th>\n",
       "      <td>2</td>\n",
       "      <td>공익사업을 위한 토지 등의 취득 및 보상에 관한 법률 일부개정법률안</td>\n",
       "      <td>현행 법령상 도시가스 미공급 지역의 경우, 도시가스 사업자가 도시가스 공급을 위해...</td>\n",
       "      <td>현행 법령 상 도시 가스 미공 급 지역 의 경우 , 도시 가스 사업자 가 도시 가스...</td>\n",
       "    </tr>\n",
       "    <tr>\n",
       "      <th>3</th>\n",
       "      <td>3</td>\n",
       "      <td>중소기업진흥에 관한 법률 일부개정법률안</td>\n",
       "      <td>최근 코로나바이러스감염증-19(COVID-19)의 확산으로 직·간접적으로 경제적 ...</td>\n",
       "      <td>최근 코로나 바이러스 감염증 - 19 ( COVID - 19 ) 의 확산 으로 직 ...</td>\n",
       "    </tr>\n",
       "    <tr>\n",
       "      <th>4</th>\n",
       "      <td>4</td>\n",
       "      <td>주거급여법 일부개정법률안</td>\n",
       "      <td>현행법은 「국민기초생활 보장법」 관련 규정을 준용하여 주거급여를 실시하기 위한 비...</td>\n",
       "      <td>현행법 은 「 국민 기초 생활 보장 법 」 관련 규정 을 준용 하 여 주거급여 를 ...</td>\n",
       "    </tr>\n",
       "  </tbody>\n",
       "</table>\n",
       "</div>"
      ],
      "text/plain": [
       "   index                                    법안명  \\\n",
       "0      0                         출입국관리법 일부개정법률안   \n",
       "1      1                        통신비밀보호법 일부개정법률안   \n",
       "2      2  공익사업을 위한 토지 등의 취득 및 보상에 관한 법률 일부개정법률안   \n",
       "3      3                  중소기업진흥에 관한 법률 일부개정법률안   \n",
       "4      4                          주거급여법 일부개정법률안   \n",
       "\n",
       "                                                법안내용  \\\n",
       "0   관광 등 단기체류 목적으로 입국하는 외국인은 출입국관리공무원의 입국심사를 받을 때...   \n",
       "1   2018. 8. 30. 헌법재판소는 국가정보원 인터넷회선감청(이른바 ‘패킷감청’)...   \n",
       "2   현행 법령상 도시가스 미공급 지역의 경우, 도시가스 사업자가 도시가스 공급을 위해...   \n",
       "3   최근 코로나바이러스감염증-19(COVID-19)의 확산으로 직·간접적으로 경제적 ...   \n",
       "4   현행법은 「국민기초생활 보장법」 관련 규정을 준용하여 주거급여를 실시하기 위한 비...   \n",
       "\n",
       "                                           tokenized  \n",
       "0  관광 등 단기체류 목적 으로 입국 하 는 외국인 은 출입국관리공무원 의 입국 심사 ...  \n",
       "1  2018 . 8 . 30 . 헌법재판소 는 국가정보원 인터넷 회선 감청 ( 이른바 ...  \n",
       "2  현행 법령 상 도시 가스 미공 급 지역 의 경우 , 도시 가스 사업자 가 도시 가스...  \n",
       "3  최근 코로나 바이러스 감염증 - 19 ( COVID - 19 ) 의 확산 으로 직 ...  \n",
       "4  현행법 은 「 국민 기초 생활 보장 법 」 관련 규정 을 준용 하 여 주거급여 를 ...  "
      ]
     },
     "execution_count": 33,
     "metadata": {},
     "output_type": "execute_result"
    }
   ],
   "source": [
    "hw.head()"
   ]
  },
  {
   "cell_type": "code",
   "execution_count": 34,
   "metadata": {},
   "outputs": [
    {
     "data": {
      "text/plain": [
       "(21449, 4)"
      ]
     },
     "execution_count": 34,
     "metadata": {},
     "output_type": "execute_result"
    }
   ],
   "source": [
    "hw.shape"
   ]
  },
  {
   "cell_type": "markdown",
   "metadata": {},
   "source": [
    "### 각자 30개의 법안을 맡아라!!!"
   ]
  },
  {
   "cell_type": "code",
   "execution_count": 35,
   "metadata": {},
   "outputs": [],
   "source": [
    "randint = np.random.randint(1, 21449, size=120)\n",
    "토끼num = randint[:30]\n",
    "참새num = randint[30:60]\n",
    "병아리num = randint[60:90]\n",
    "거북이num = randint[90:120]"
   ]
  },
  {
   "cell_type": "code",
   "execution_count": 36,
   "metadata": {
    "scrolled": true
   },
   "outputs": [],
   "source": [
    "df_토끼 = hw.loc[토끼num]\n",
    "df_참새 = hw.loc[참새num]\n",
    "df_병아리 = hw.loc[병아리num]\n",
    "df_거북이 = hw.loc[거북이num]"
   ]
  },
  {
   "cell_type": "code",
   "execution_count": 37,
   "metadata": {
    "scrolled": true
   },
   "outputs": [
    {
     "data": {
      "text/html": [
       "<div>\n",
       "<style scoped>\n",
       "    .dataframe tbody tr th:only-of-type {\n",
       "        vertical-align: middle;\n",
       "    }\n",
       "\n",
       "    .dataframe tbody tr th {\n",
       "        vertical-align: top;\n",
       "    }\n",
       "\n",
       "    .dataframe thead th {\n",
       "        text-align: right;\n",
       "    }\n",
       "</style>\n",
       "<table border=\"1\" class=\"dataframe\">\n",
       "  <thead>\n",
       "    <tr style=\"text-align: right;\">\n",
       "      <th></th>\n",
       "      <th>index</th>\n",
       "      <th>법안명</th>\n",
       "      <th>법안내용</th>\n",
       "      <th>tokenized</th>\n",
       "    </tr>\n",
       "  </thead>\n",
       "  <tbody>\n",
       "    <tr>\n",
       "      <th>16487</th>\n",
       "      <td>16487</td>\n",
       "      <td>사립학교법 일부개정법률안</td>\n",
       "      <td>현행법에서는 사립학교의 경영에 관한 중요사항에 대해 이사회의 심의？의결을 거치도록...</td>\n",
       "      <td>현행법 에서 는 사립 학교 의 경영 에 관한 중요 사항 에 대해 이 사회 의 심의 ...</td>\n",
       "    </tr>\n",
       "    <tr>\n",
       "      <th>7370</th>\n",
       "      <td>7370</td>\n",
       "      <td>석탄산업법 일부개정법률안</td>\n",
       "      <td>「저탄소 녹색성장 기본법」에 따른 에너지기본계획은 에너지 부문의 모든 분야를 총망...</td>\n",
       "      <td>「 저탄소 녹색 성장 기본법 」 에 따른 에너지 기본 계획 은 에너지 부문 의 모든...</td>\n",
       "    </tr>\n",
       "    <tr>\n",
       "      <th>19283</th>\n",
       "      <td>19283</td>\n",
       "      <td>산업표준화법 일부개정법률안</td>\n",
       "      <td>현행 「산업표준화법 시행규칙」 제16조제2항은 제품인증, 서비스인증(KS)을 받은...</td>\n",
       "      <td>현행 「 산업 표준 화법 시행 규칙 」 제 16 조제 2 항 은 제품 인증 , 서비...</td>\n",
       "    </tr>\n",
       "    <tr>\n",
       "      <th>15385</th>\n",
       "      <td>15385</td>\n",
       "      <td>국토의 계획 및 이용에 관한 법률 일부개정법률안</td>\n",
       "      <td>통계청에 따르면 저출산·고령화, 1인 가구의 증가로 인하여 2030년 이후부터 우...</td>\n",
       "      <td>통계청 에 따르 면 저출산 · 고령화 , 1 인 가구 의 증가 로 인하 여 2030...</td>\n",
       "    </tr>\n",
       "    <tr>\n",
       "      <th>18459</th>\n",
       "      <td>18459</td>\n",
       "      <td>공익사업을 위한 토지 등의 취득 및 보상에 관한 법률 일부개정법률안</td>\n",
       "      <td>최근 백제역사지구의 세계유산 등재 등 한국의 세계유산 등재 확대와 체계적인 보존·...</td>\n",
       "      <td>최근 백제 역사 지구 의 세계유산 등재 등 한국 의 세계 유산 등 재 확대 와 체계...</td>\n",
       "    </tr>\n",
       "  </tbody>\n",
       "</table>\n",
       "</div>"
      ],
      "text/plain": [
       "       index                                    법안명  \\\n",
       "16487  16487                          사립학교법 일부개정법률안   \n",
       "7370    7370                          석탄산업법 일부개정법률안   \n",
       "19283  19283                         산업표준화법 일부개정법률안   \n",
       "15385  15385             국토의 계획 및 이용에 관한 법률 일부개정법률안   \n",
       "18459  18459  공익사업을 위한 토지 등의 취득 및 보상에 관한 법률 일부개정법률안   \n",
       "\n",
       "                                                    법안내용  \\\n",
       "16487   현행법에서는 사립학교의 경영에 관한 중요사항에 대해 이사회의 심의？의결을 거치도록...   \n",
       "7370    「저탄소 녹색성장 기본법」에 따른 에너지기본계획은 에너지 부문의 모든 분야를 총망...   \n",
       "19283   현행 「산업표준화법 시행규칙」 제16조제2항은 제품인증, 서비스인증(KS)을 받은...   \n",
       "15385   통계청에 따르면 저출산·고령화, 1인 가구의 증가로 인하여 2030년 이후부터 우...   \n",
       "18459   최근 백제역사지구의 세계유산 등재 등 한국의 세계유산 등재 확대와 체계적인 보존·...   \n",
       "\n",
       "                                               tokenized  \n",
       "16487  현행법 에서 는 사립 학교 의 경영 에 관한 중요 사항 에 대해 이 사회 의 심의 ...  \n",
       "7370   「 저탄소 녹색 성장 기본법 」 에 따른 에너지 기본 계획 은 에너지 부문 의 모든...  \n",
       "19283  현행 「 산업 표준 화법 시행 규칙 」 제 16 조제 2 항 은 제품 인증 , 서비...  \n",
       "15385  통계청 에 따르 면 저출산 · 고령화 , 1 인 가구 의 증가 로 인하 여 2030...  \n",
       "18459  최근 백제 역사 지구 의 세계유산 등재 등 한국 의 세계 유산 등 재 확대 와 체계...  "
      ]
     },
     "execution_count": 37,
     "metadata": {},
     "output_type": "execute_result"
    }
   ],
   "source": [
    "df_토끼.head()"
   ]
  },
  {
   "cell_type": "code",
   "execution_count": 38,
   "metadata": {},
   "outputs": [],
   "source": [
    "토끼원본 = ''\n",
    "for i in df_토끼['법안내용'].values:\n",
    "    토끼원본 = 토끼원본 + \"{} \\n \\n\".format(i)\n",
    "    \n",
    "토끼tokenized = ''\n",
    "for i in df_토끼['tokenized'].values:\n",
    "    토끼tokenized = 토끼tokenized + \"{} \\n \\n\".format(i)\n",
    "    \n",
    "################################################################################\n",
    "\n",
    "참새원본 = ''\n",
    "for i in df_참새['법안내용'].values:\n",
    "    참새원본 = 참새원본 + \"{} \\n \\n\".format(i)\n",
    "    \n",
    "참새tokenized = ''\n",
    "for i in df_참새['tokenized'].values:\n",
    "    참새tokenized = 참새tokenized + \"{} \\n \\n\".format(i)\n",
    "    \n",
    "################################################################################\n",
    "\n",
    "병아리원본 = ''\n",
    "for i in df_병아리['법안내용'].values:\n",
    "    병아리원본 = 병아리원본 + \"{} \\n \\n\".format(i)\n",
    "    \n",
    "병아리tokenized = ''\n",
    "for i in df_병아리['tokenized'].values:\n",
    "    병아리tokenized = 병아리tokenized + \"{} \\n \\n\".format(i)\n",
    "    \n",
    "################################################################################\n",
    "\n",
    "거북이원본 = ''\n",
    "for i in df_거북이['법안내용'].values:\n",
    "    거북이원본 = 거북이원본 + \"{} \\n \\n\".format(i)\n",
    "    \n",
    "거북이tokenized = ''\n",
    "for i in df_거북이['tokenized'].values:\n",
    "    거북이tokenized = 거북이tokenized + \"{} \\n \\n\".format(i)"
   ]
  },
  {
   "cell_type": "markdown",
   "metadata": {},
   "source": [
    "## 텍스트 파일로 송출~"
   ]
  },
  {
   "cell_type": "code",
   "execution_count": 39,
   "metadata": {},
   "outputs": [],
   "source": [
    "f = open(\"/Users/junghyunwoo/혀누에-의한-혀누를-위한-혀누의/토끼(원본).txt\", 'w')\n",
    "f.write(토끼원본)\n",
    "f.close()\n",
    "\n",
    "f = open(\"/Users/junghyunwoo/혀누에-의한-혀누를-위한-혀누의/토끼(tokenized).txt\", 'w')\n",
    "f.write(토끼tokenized)\n",
    "f.close()\n",
    "\n",
    "################################################################################\n",
    "\n",
    "f = open(\"/Users/junghyunwoo/혀누에-의한-혀누를-위한-혀누의/참새(원본).txt\", 'w')\n",
    "f.write(참새원본)\n",
    "f.close()\n",
    "\n",
    "f = open(\"/Users/junghyunwoo/혀누에-의한-혀누를-위한-혀누의/참새(tokenized).txt\", 'w')\n",
    "f.write(참새tokenized)\n",
    "f.close()\n",
    "\n",
    "################################################################################\n",
    "\n",
    "f = open(\"/Users/junghyunwoo/혀누에-의한-혀누를-위한-혀누의/병아리(원본).txt\", 'w')\n",
    "f.write(병아리원본)\n",
    "f.close()\n",
    "\n",
    "f = open(\"/Users/junghyunwoo/혀누에-의한-혀누를-위한-혀누의/병아리(tokenized).txt\", 'w')\n",
    "f.write(병아리tokenized)\n",
    "f.close()\n",
    "\n",
    "################################################################################\n",
    "\n",
    "f = open(\"/Users/junghyunwoo/혀누에-의한-혀누를-위한-혀누의/거북이(원본).txt\", 'w')\n",
    "f.write(거북이원본)\n",
    "f.close()\n",
    "\n",
    "f = open(\"/Users/junghyunwoo/혀누에-의한-혀누를-위한-혀누의/거북이(tokenized).txt\", 'w')\n",
    "f.write(거북이tokenized)\n",
    "f.close()"
   ]
  },
  {
   "cell_type": "code",
   "execution_count": null,
   "metadata": {},
   "outputs": [],
   "source": []
  }
 ],
 "metadata": {
  "kernelspec": {
   "display_name": "Python 3",
   "language": "python",
   "name": "python3"
  },
  "language_info": {
   "codemirror_mode": {
    "name": "ipython",
    "version": 3
   },
   "file_extension": ".py",
   "mimetype": "text/x-python",
   "name": "python",
   "nbconvert_exporter": "python",
   "pygments_lexer": "ipython3",
   "version": "3.8.2"
  }
 },
 "nbformat": 4,
 "nbformat_minor": 4
}
